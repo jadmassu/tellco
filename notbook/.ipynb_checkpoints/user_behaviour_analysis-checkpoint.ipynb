{
 "cells": [
  {
   "cell_type": "code",
   "execution_count": 12,
   "id": "ddda2b06-d861-4b57-a8c0-be9d115708ec",
   "metadata": {
    "tags": []
   },
   "outputs": [],
   "source": [
    "import os, sys\n",
    "import re\n",
    "import json\n",
    "import glob\n",
    "import datetime\n",
    "from collections import Counter\n",
    "from dotenv import load_dotenv\n",
    "import pandas as pd\n",
    "from matplotlib import pyplot as plt\n",
    "\n",
    "import seaborn as sns\n",
    "\n",
    "from nltk.corpus import stopwords\n"
   ]
  },
  {
   "cell_type": "code",
   "execution_count": 14,
   "id": "b17a46a9-c689-436c-afd5-8671c0bb4be2",
   "metadata": {},
   "outputs": [],
   "source": [
    "rpath = os.path.abspath('/home/user/Documents/10/w1/tellco')\n",
    "\n",
    "if rpath not in sys.path:\n",
    "    sys.path.insert(0, rpath)\n",
    "    \n",
    "import utils.data_manager as dataManager"
   ]
  },
  {
   "cell_type": "code",
   "execution_count": 16,
   "id": "b363ca50-0795-4f58-ab75-6b260f77a561",
   "metadata": {
    "tags": []
   },
   "outputs": [],
   "source": [
    "load_dotenv()\n",
    "database_uri = os.getenv(\"CLEANED_DATABASE_URI\")"
   ]
  },
  {
   "cell_type": "code",
   "execution_count": 18,
   "id": "ad27c6ce-81d8-4dd1-8906-5d46ce9c730f",
   "metadata": {},
   "outputs": [
    {
     "ename": "NameError",
     "evalue": "name 'dataManager' is not defined",
     "output_type": "error",
     "traceback": [
      "\u001b[0;31m---------------------------------------------------------------------------\u001b[0m",
      "\u001b[0;31mNameError\u001b[0m                                 Traceback (most recent call last)",
      "Cell \u001b[0;32mIn[18], line 1\u001b[0m\n\u001b[0;32m----> 1\u001b[0m dataM \u001b[38;5;241m=\u001b[39m dataManager\u001b[38;5;241m.\u001b[39mDataManager(database_uri)\n",
      "\u001b[0;31mNameError\u001b[0m: name 'dataManager' is not defined"
     ]
    }
   ],
   "source": [
    "dataM = dataManager.DataManager(database_uri)"
   ]
  },
  {
   "cell_type": "code",
   "execution_count": null,
   "id": "65baec2e-4e04-4701-878a-62b588587a16",
   "metadata": {},
   "outputs": [],
   "source": []
  }
 ],
 "metadata": {
  "kernelspec": {
   "display_name": "Python 3 (ipykernel)",
   "language": "python",
   "name": "python3"
  },
  "language_info": {
   "codemirror_mode": {
    "name": "ipython",
    "version": 3
   },
   "file_extension": ".py",
   "mimetype": "text/x-python",
   "name": "python",
   "nbconvert_exporter": "python",
   "pygments_lexer": "ipython3",
   "version": "3.11.7"
  }
 },
 "nbformat": 4,
 "nbformat_minor": 5
}
