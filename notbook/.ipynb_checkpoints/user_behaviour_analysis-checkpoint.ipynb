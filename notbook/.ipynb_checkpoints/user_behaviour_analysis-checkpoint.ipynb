{
 "cells": [
  {
   "cell_type": "code",
   "execution_count": 1,
   "id": "ddda2b06-d861-4b57-a8c0-be9d115708ec",
   "metadata": {
    "tags": []
   },
   "outputs": [],
   "source": [
    "import os, sys\n",
    "import re\n",
    "import json\n",
    "import glob\n",
    "import datetime\n",
    "from collections import Counter\n",
    "from dotenv import load_dotenv\n",
    "import pandas as pd\n",
    "from matplotlib import pyplot as plt\n",
    "\n",
    "import seaborn as sns\n",
    "\n",
    "from nltk.corpus import stopwords\n"
   ]
  },
  {
   "cell_type": "code",
   "execution_count": 2,
   "id": "b17a46a9-c689-436c-afd5-8671c0bb4be2",
   "metadata": {},
   "outputs": [],
   "source": [
    "rpath = os.path.abspath('/home/user/Documents/10/w1/tellco')\n",
    "\n",
    "if rpath not in sys.path:\n",
    "    sys.path.insert(0, rpath)\n",
    "    \n",
    "import utils.data_manager as dataManager\n",
    "import script.user_engagement_analysis as analysis"
   ]
  },
  {
   "cell_type": "code",
   "execution_count": 5,
   "id": "b363ca50-0795-4f58-ab75-6b260f77a561",
   "metadata": {
    "tags": []
   },
   "outputs": [
    {
     "name": "stdout",
     "output_type": "stream",
     "text": [
      "Database connection established successfully.\n"
     ]
    }
   ],
   "source": [
    "load_dotenv()\n",
    "database_uri = os.getenv(\"CLEANED_DATABASE_URI\")\n",
    "dataM = dataManager.DataManager(database_uri)\n",
    "data = dataM.read_table_to_dataframe('xdr_data')"
   ]
  },
  {
   "cell_type": "code",
   "execution_count": 6,
   "id": "e5312363-6cb4-47b9-a376-ce96031c5147",
   "metadata": {},
   "outputs": [],
   "source": [
    "userEngagement = analysis.UserEngagementAnalyzer(data)"
   ]
  },
  {
   "cell_type": "code",
   "execution_count": 7,
   "id": "6b58314a-022e-4427-9857-239ffe035387",
   "metadata": {
    "tags": []
   },
   "outputs": [],
   "source": [
    "aggregate_engagement_metrics= userEngagement.aggregate_engagement_metrics({\n",
    "    'Bearer Id': 'count',\n",
    "    'Dur. (ms)': 'sum',\n",
    "    'Total UL (Bytes)': 'sum',\n",
    "    # 'Total DL (Bytes)': 'sum'\n",
    "},\"MSISDN/Number\")"
   ]
  },
  {
   "cell_type": "code",
   "execution_count": 8,
   "id": "f3d328cd-489f-4087-8cda-0bbf19d14786",
   "metadata": {
    "tags": []
   },
   "outputs": [
    {
     "data": {
      "text/html": [
       "<div>\n",
       "<style scoped>\n",
       "    .dataframe tbody tr th:only-of-type {\n",
       "        vertical-align: middle;\n",
       "    }\n",
       "\n",
       "    .dataframe tbody tr th {\n",
       "        vertical-align: top;\n",
       "    }\n",
       "\n",
       "    .dataframe thead th {\n",
       "        text-align: right;\n",
       "    }\n",
       "</style>\n",
       "<table border=\"1\" class=\"dataframe\">\n",
       "  <thead>\n",
       "    <tr style=\"text-align: right;\">\n",
       "      <th></th>\n",
       "      <th>MSISDN/Number</th>\n",
       "      <th>Bearer Id</th>\n",
       "      <th>Dur. (ms)</th>\n",
       "      <th>Total UL (Bytes)</th>\n",
       "    </tr>\n",
       "  </thead>\n",
       "  <tbody>\n",
       "    <tr>\n",
       "      <th>13526</th>\n",
       "      <td>3.362632e+10</td>\n",
       "      <td>1084</td>\n",
       "      <td>81324722.0</td>\n",
       "      <td>4.501432e+10</td>\n",
       "    </tr>\n",
       "    <tr>\n",
       "      <th>6437</th>\n",
       "      <td>3.361489e+10</td>\n",
       "      <td>17</td>\n",
       "      <td>9966898.0</td>\n",
       "      <td>6.894830e+08</td>\n",
       "    </tr>\n",
       "    <tr>\n",
       "      <th>13180</th>\n",
       "      <td>3.362578e+10</td>\n",
       "      <td>17</td>\n",
       "      <td>18553754.0</td>\n",
       "      <td>7.295774e+08</td>\n",
       "    </tr>\n",
       "    <tr>\n",
       "      <th>37052</th>\n",
       "      <td>3.365973e+10</td>\n",
       "      <td>16</td>\n",
       "      <td>4035428.0</td>\n",
       "      <td>6.242603e+08</td>\n",
       "    </tr>\n",
       "    <tr>\n",
       "      <th>76363</th>\n",
       "      <td>3.367588e+10</td>\n",
       "      <td>15</td>\n",
       "      <td>4865947.0</td>\n",
       "      <td>5.815688e+08</td>\n",
       "    </tr>\n",
       "    <tr>\n",
       "      <th>92923</th>\n",
       "      <td>3.376054e+10</td>\n",
       "      <td>15</td>\n",
       "      <td>9279434.0</td>\n",
       "      <td>7.034786e+08</td>\n",
       "    </tr>\n",
       "    <tr>\n",
       "      <th>65118</th>\n",
       "      <td>3.366716e+10</td>\n",
       "      <td>13</td>\n",
       "      <td>8744914.0</td>\n",
       "      <td>5.663264e+08</td>\n",
       "    </tr>\n",
       "    <tr>\n",
       "      <th>666</th>\n",
       "      <td>3.360313e+10</td>\n",
       "      <td>12</td>\n",
       "      <td>6287761.0</td>\n",
       "      <td>4.355876e+08</td>\n",
       "    </tr>\n",
       "    <tr>\n",
       "      <th>1279</th>\n",
       "      <td>3.360452e+10</td>\n",
       "      <td>12</td>\n",
       "      <td>5207990.0</td>\n",
       "      <td>3.917759e+08</td>\n",
       "    </tr>\n",
       "    <tr>\n",
       "      <th>13994</th>\n",
       "      <td>3.362708e+10</td>\n",
       "      <td>12</td>\n",
       "      <td>4703516.0</td>\n",
       "      <td>4.452519e+08</td>\n",
       "    </tr>\n",
       "  </tbody>\n",
       "</table>\n",
       "</div>"
      ],
      "text/plain": [
       "       MSISDN/Number  Bearer Id   Dur. (ms)  Total UL (Bytes)\n",
       "13526   3.362632e+10       1084  81324722.0      4.501432e+10\n",
       "6437    3.361489e+10         17   9966898.0      6.894830e+08\n",
       "13180   3.362578e+10         17  18553754.0      7.295774e+08\n",
       "37052   3.365973e+10         16   4035428.0      6.242603e+08\n",
       "76363   3.367588e+10         15   4865947.0      5.815688e+08\n",
       "92923   3.376054e+10         15   9279434.0      7.034786e+08\n",
       "65118   3.366716e+10         13   8744914.0      5.663264e+08\n",
       "666     3.360313e+10         12   6287761.0      4.355876e+08\n",
       "1279    3.360452e+10         12   5207990.0      3.917759e+08\n",
       "13994   3.362708e+10         12   4703516.0      4.452519e+08"
      ]
     },
     "execution_count": 8,
     "metadata": {},
     "output_type": "execute_result"
    }
   ],
   "source": [
    "#top 10 customers by Bearer Id\t \n",
    "topTenCustomersBySessionFrequency = aggregate_engagement_metrics.nlargest(10, 'Bearer Id')\n",
    "topTenCustomersBySessionFrequency"
   ]
  },
  {
   "cell_type": "code",
   "execution_count": 9,
   "id": "9724d24c-f258-4bca-8d2e-ab35d35b36ef",
   "metadata": {
    "tags": []
   },
   "outputs": [
    {
     "data": {
      "text/html": [
       "<div>\n",
       "<style scoped>\n",
       "    .dataframe tbody tr th:only-of-type {\n",
       "        vertical-align: middle;\n",
       "    }\n",
       "\n",
       "    .dataframe tbody tr th {\n",
       "        vertical-align: top;\n",
       "    }\n",
       "\n",
       "    .dataframe thead th {\n",
       "        text-align: right;\n",
       "    }\n",
       "</style>\n",
       "<table border=\"1\" class=\"dataframe\">\n",
       "  <thead>\n",
       "    <tr style=\"text-align: right;\">\n",
       "      <th></th>\n",
       "      <th>MSISDN/Number</th>\n",
       "      <th>Bearer Id</th>\n",
       "      <th>Dur. (ms)</th>\n",
       "      <th>Total UL (Bytes)</th>\n",
       "    </tr>\n",
       "  </thead>\n",
       "  <tbody>\n",
       "    <tr>\n",
       "      <th>13526</th>\n",
       "      <td>3.362632e+10</td>\n",
       "      <td>1084</td>\n",
       "      <td>81324722.0</td>\n",
       "      <td>4.501432e+10</td>\n",
       "    </tr>\n",
       "    <tr>\n",
       "      <th>13180</th>\n",
       "      <td>3.362578e+10</td>\n",
       "      <td>17</td>\n",
       "      <td>18553754.0</td>\n",
       "      <td>7.295774e+08</td>\n",
       "    </tr>\n",
       "    <tr>\n",
       "      <th>6437</th>\n",
       "      <td>3.361489e+10</td>\n",
       "      <td>17</td>\n",
       "      <td>9966898.0</td>\n",
       "      <td>6.894830e+08</td>\n",
       "    </tr>\n",
       "    <tr>\n",
       "      <th>92923</th>\n",
       "      <td>3.376054e+10</td>\n",
       "      <td>15</td>\n",
       "      <td>9279434.0</td>\n",
       "      <td>7.034786e+08</td>\n",
       "    </tr>\n",
       "    <tr>\n",
       "      <th>65118</th>\n",
       "      <td>3.366716e+10</td>\n",
       "      <td>13</td>\n",
       "      <td>8744914.0</td>\n",
       "      <td>5.663264e+08</td>\n",
       "    </tr>\n",
       "    <tr>\n",
       "      <th>50281</th>\n",
       "      <td>3.366284e+10</td>\n",
       "      <td>9</td>\n",
       "      <td>6614270.0</td>\n",
       "      <td>4.064244e+08</td>\n",
       "    </tr>\n",
       "    <tr>\n",
       "      <th>57160</th>\n",
       "      <td>3.366469e+10</td>\n",
       "      <td>9</td>\n",
       "      <td>6288730.0</td>\n",
       "      <td>4.021808e+08</td>\n",
       "    </tr>\n",
       "    <tr>\n",
       "      <th>666</th>\n",
       "      <td>3.360313e+10</td>\n",
       "      <td>12</td>\n",
       "      <td>6287761.0</td>\n",
       "      <td>4.355876e+08</td>\n",
       "    </tr>\n",
       "    <tr>\n",
       "      <th>66029</th>\n",
       "      <td>3.366746e+10</td>\n",
       "      <td>6</td>\n",
       "      <td>5649882.0</td>\n",
       "      <td>2.662226e+08</td>\n",
       "    </tr>\n",
       "    <tr>\n",
       "      <th>92577</th>\n",
       "      <td>3.376041e+10</td>\n",
       "      <td>12</td>\n",
       "      <td>5321667.0</td>\n",
       "      <td>5.215189e+08</td>\n",
       "    </tr>\n",
       "  </tbody>\n",
       "</table>\n",
       "</div>"
      ],
      "text/plain": [
       "       MSISDN/Number  Bearer Id   Dur. (ms)  Total UL (Bytes)\n",
       "13526   3.362632e+10       1084  81324722.0      4.501432e+10\n",
       "13180   3.362578e+10         17  18553754.0      7.295774e+08\n",
       "6437    3.361489e+10         17   9966898.0      6.894830e+08\n",
       "92923   3.376054e+10         15   9279434.0      7.034786e+08\n",
       "65118   3.366716e+10         13   8744914.0      5.663264e+08\n",
       "50281   3.366284e+10          9   6614270.0      4.064244e+08\n",
       "57160   3.366469e+10          9   6288730.0      4.021808e+08\n",
       "666     3.360313e+10         12   6287761.0      4.355876e+08\n",
       "66029   3.366746e+10          6   5649882.0      2.662226e+08\n",
       "92577   3.376041e+10         12   5321667.0      5.215189e+08"
      ]
     },
     "execution_count": 9,
     "metadata": {},
     "output_type": "execute_result"
    }
   ],
   "source": [
    "#top 10 customers by duration \n",
    "aggregate_engagement_metrics.nlargest(10, 'Dur. (ms)')"
   ]
  },
  {
   "cell_type": "code",
   "execution_count": 10,
   "id": "d956a728-0146-4bc8-b83e-20f88de0d671",
   "metadata": {
    "tags": []
   },
   "outputs": [
    {
     "data": {
      "text/html": [
       "<div>\n",
       "<style scoped>\n",
       "    .dataframe tbody tr th:only-of-type {\n",
       "        vertical-align: middle;\n",
       "    }\n",
       "\n",
       "    .dataframe tbody tr th {\n",
       "        vertical-align: top;\n",
       "    }\n",
       "\n",
       "    .dataframe thead th {\n",
       "        text-align: right;\n",
       "    }\n",
       "</style>\n",
       "<table border=\"1\" class=\"dataframe\">\n",
       "  <thead>\n",
       "    <tr style=\"text-align: right;\">\n",
       "      <th></th>\n",
       "      <th>MSISDN/Number</th>\n",
       "      <th>Bearer Id</th>\n",
       "      <th>Dur. (ms)</th>\n",
       "      <th>Total UL (Bytes)</th>\n",
       "    </tr>\n",
       "  </thead>\n",
       "  <tbody>\n",
       "    <tr>\n",
       "      <th>13526</th>\n",
       "      <td>3.362632e+10</td>\n",
       "      <td>1084</td>\n",
       "      <td>81324722.0</td>\n",
       "      <td>4.501432e+10</td>\n",
       "    </tr>\n",
       "    <tr>\n",
       "      <th>13180</th>\n",
       "      <td>3.362578e+10</td>\n",
       "      <td>17</td>\n",
       "      <td>18553754.0</td>\n",
       "      <td>7.295774e+08</td>\n",
       "    </tr>\n",
       "    <tr>\n",
       "      <th>92923</th>\n",
       "      <td>3.376054e+10</td>\n",
       "      <td>15</td>\n",
       "      <td>9279434.0</td>\n",
       "      <td>7.034786e+08</td>\n",
       "    </tr>\n",
       "    <tr>\n",
       "      <th>6437</th>\n",
       "      <td>3.361489e+10</td>\n",
       "      <td>17</td>\n",
       "      <td>9966898.0</td>\n",
       "      <td>6.894830e+08</td>\n",
       "    </tr>\n",
       "    <tr>\n",
       "      <th>37052</th>\n",
       "      <td>3.365973e+10</td>\n",
       "      <td>16</td>\n",
       "      <td>4035428.0</td>\n",
       "      <td>6.242603e+08</td>\n",
       "    </tr>\n",
       "    <tr>\n",
       "      <th>76363</th>\n",
       "      <td>3.367588e+10</td>\n",
       "      <td>15</td>\n",
       "      <td>4865947.0</td>\n",
       "      <td>5.815688e+08</td>\n",
       "    </tr>\n",
       "    <tr>\n",
       "      <th>65118</th>\n",
       "      <td>3.366716e+10</td>\n",
       "      <td>13</td>\n",
       "      <td>8744914.0</td>\n",
       "      <td>5.663264e+08</td>\n",
       "    </tr>\n",
       "    <tr>\n",
       "      <th>86455</th>\n",
       "      <td>3.369879e+10</td>\n",
       "      <td>11</td>\n",
       "      <td>5169128.0</td>\n",
       "      <td>5.303431e+08</td>\n",
       "    </tr>\n",
       "    <tr>\n",
       "      <th>92577</th>\n",
       "      <td>3.376041e+10</td>\n",
       "      <td>12</td>\n",
       "      <td>5321667.0</td>\n",
       "      <td>5.215189e+08</td>\n",
       "    </tr>\n",
       "    <tr>\n",
       "      <th>94654</th>\n",
       "      <td>3.376127e+10</td>\n",
       "      <td>10</td>\n",
       "      <td>3481629.0</td>\n",
       "      <td>4.964671e+08</td>\n",
       "    </tr>\n",
       "  </tbody>\n",
       "</table>\n",
       "</div>"
      ],
      "text/plain": [
       "       MSISDN/Number  Bearer Id   Dur. (ms)  Total UL (Bytes)\n",
       "13526   3.362632e+10       1084  81324722.0      4.501432e+10\n",
       "13180   3.362578e+10         17  18553754.0      7.295774e+08\n",
       "92923   3.376054e+10         15   9279434.0      7.034786e+08\n",
       "6437    3.361489e+10         17   9966898.0      6.894830e+08\n",
       "37052   3.365973e+10         16   4035428.0      6.242603e+08\n",
       "76363   3.367588e+10         15   4865947.0      5.815688e+08\n",
       "65118   3.366716e+10         13   8744914.0      5.663264e+08\n",
       "86455   3.369879e+10         11   5169128.0      5.303431e+08\n",
       "92577   3.376041e+10         12   5321667.0      5.215189e+08\n",
       "94654   3.376127e+10         10   3481629.0      4.964671e+08"
      ]
     },
     "execution_count": 10,
     "metadata": {},
     "output_type": "execute_result"
    }
   ],
   "source": [
    "#top 10 customers by upload \n",
    "aggregate_engagement_metrics.nlargest(10, 'Total UL (Bytes)')"
   ]
  },
  {
   "cell_type": "code",
   "execution_count": 11,
   "id": "cb381091-0ae5-4194-ad6e-1ddf3c07e684",
   "metadata": {
    "tags": []
   },
   "outputs": [],
   "source": [
    "##top 10 customers by download\n",
    "# aggregate_engagement_metrics.nlargest(10, 'Total DL (Bytes)')"
   ]
  },
  {
   "cell_type": "code",
   "execution_count": 12,
   "id": "a29da93e-c1fe-473f-bb3c-73aaa8b31d2c",
   "metadata": {
    "tags": []
   },
   "outputs": [
    {
     "data": {
      "text/plain": [
       "array([[-3.98480544e-03, -1.18471887e-01, -9.73830373e-02,\n",
       "        -1.52545579e-01],\n",
       "       [-3.98480542e-03, -1.18471887e-01,  1.11147498e-01,\n",
       "        -1.52184117e-01],\n",
       "       [-3.98480516e-03, -1.18471887e-01, -3.83925902e-02,\n",
       "        -1.29642515e-01],\n",
       "       ...,\n",
       "       [ 1.09084769e+00, -1.18471887e-01,  2.36148969e+00,\n",
       "        -1.43797390e-01],\n",
       "       [ 1.16617210e+02, -1.18471887e-01,  3.43243180e-01,\n",
       "        -7.54289882e-03],\n",
       "       [ 3.05374461e+02, -1.18471887e-01,  2.33711318e+00,\n",
       "         1.92281131e-02]])"
      ]
     },
     "execution_count": 12,
     "metadata": {},
     "output_type": "execute_result"
    }
   ],
   "source": [
    "normalize_engagement_metrics = userEngagement.normalize_engagement_metrics(\n",
    "    aggregate_engagement_metrics\n",
    "   )\n",
    "normalize_engagement_metrics"
   ]
  },
  {
   "cell_type": "code",
   "execution_count": 13,
   "id": "9782e315-43d6-4890-b492-6ef352762fea",
   "metadata": {
    "tags": []
   },
   "outputs": [
    {
     "name": "stderr",
     "output_type": "stream",
     "text": [
      "/home/user/anaconda3/lib/python3.11/site-packages/sklearn/cluster/_kmeans.py:870: FutureWarning: The default value of `n_init` will change from 10 to 'auto' in 1.4. Set the value of `n_init` explicitly to suppress the warning\n",
      "  warnings.warn(\n"
     ]
    }
   ],
   "source": [
    "classify_engagement_clusters = userEngagement.classify_engagement_clusters(normalize_engagement_metrics)"
   ]
  },
  {
   "cell_type": "code",
   "execution_count": 14,
   "id": "48090278-bbe4-4a97-b5f0-0bdc256bc6c4",
   "metadata": {
    "tags": []
   },
   "outputs": [
    {
     "data": {
      "text/html": [
       "<div>\n",
       "<style scoped>\n",
       "    .dataframe tbody tr th:only-of-type {\n",
       "        vertical-align: middle;\n",
       "    }\n",
       "\n",
       "    .dataframe tbody tr th {\n",
       "        vertical-align: top;\n",
       "    }\n",
       "\n",
       "    .dataframe thead tr th {\n",
       "        text-align: left;\n",
       "    }\n",
       "\n",
       "    .dataframe thead tr:last-of-type th {\n",
       "        text-align: right;\n",
       "    }\n",
       "</style>\n",
       "<table border=\"1\" class=\"dataframe\">\n",
       "  <thead>\n",
       "    <tr>\n",
       "      <th></th>\n",
       "      <th colspan=\"4\" halign=\"left\">Bearer Id</th>\n",
       "      <th colspan=\"4\" halign=\"left\">Dur. (ms)</th>\n",
       "      <th colspan=\"4\" halign=\"left\">Total UL (Bytes)</th>\n",
       "    </tr>\n",
       "    <tr>\n",
       "      <th></th>\n",
       "      <th>min</th>\n",
       "      <th>max</th>\n",
       "      <th>mean</th>\n",
       "      <th>sum</th>\n",
       "      <th>min</th>\n",
       "      <th>max</th>\n",
       "      <th>mean</th>\n",
       "      <th>sum</th>\n",
       "      <th>min</th>\n",
       "      <th>max</th>\n",
       "      <th>mean</th>\n",
       "      <th>sum</th>\n",
       "    </tr>\n",
       "    <tr>\n",
       "      <th>cluster</th>\n",
       "      <th></th>\n",
       "      <th></th>\n",
       "      <th></th>\n",
       "      <th></th>\n",
       "      <th></th>\n",
       "      <th></th>\n",
       "      <th></th>\n",
       "      <th></th>\n",
       "      <th></th>\n",
       "      <th></th>\n",
       "      <th></th>\n",
       "      <th></th>\n",
       "    </tr>\n",
       "  </thead>\n",
       "  <tbody>\n",
       "    <tr>\n",
       "      <th>0</th>\n",
       "      <td>1</td>\n",
       "      <td>17</td>\n",
       "      <td>1.39364</td>\n",
       "      <td>148916</td>\n",
       "      <td>7142.0</td>\n",
       "      <td>18553754.0</td>\n",
       "      <td>1.460795e+05</td>\n",
       "      <td>1.560918e+10</td>\n",
       "      <td>2.866892e+06</td>\n",
       "      <td>7.295774e+08</td>\n",
       "      <td>5.730366e+07</td>\n",
       "      <td>6.123126e+12</td>\n",
       "    </tr>\n",
       "    <tr>\n",
       "      <th>1</th>\n",
       "      <td>1084</td>\n",
       "      <td>1084</td>\n",
       "      <td>1084.00000</td>\n",
       "      <td>1084</td>\n",
       "      <td>81324722.0</td>\n",
       "      <td>81324722.0</td>\n",
       "      <td>8.132472e+07</td>\n",
       "      <td>8.132472e+07</td>\n",
       "      <td>4.501432e+10</td>\n",
       "      <td>4.501432e+10</td>\n",
       "      <td>4.501432e+10</td>\n",
       "      <td>4.501432e+10</td>\n",
       "    </tr>\n",
       "    <tr>\n",
       "      <th>2</th>\n",
       "      <td>1</td>\n",
       "      <td>1</td>\n",
       "      <td>1.00000</td>\n",
       "      <td>1</td>\n",
       "      <td>869844.0</td>\n",
       "      <td>869844.0</td>\n",
       "      <td>8.698440e+05</td>\n",
       "      <td>8.698440e+05</td>\n",
       "      <td>6.045605e+07</td>\n",
       "      <td>6.045605e+07</td>\n",
       "      <td>6.045605e+07</td>\n",
       "      <td>6.045605e+07</td>\n",
       "    </tr>\n",
       "  </tbody>\n",
       "</table>\n",
       "</div>"
      ],
      "text/plain": [
       "        Bearer Id                             Dur. (ms)              \\\n",
       "              min   max        mean     sum         min         max   \n",
       "cluster                                                               \n",
       "0               1    17     1.39364  148916      7142.0  18553754.0   \n",
       "1            1084  1084  1084.00000    1084  81324722.0  81324722.0   \n",
       "2               1     1     1.00000       1    869844.0    869844.0   \n",
       "\n",
       "                                    Total UL (Bytes)                \\\n",
       "                 mean           sum              min           max   \n",
       "cluster                                                              \n",
       "0        1.460795e+05  1.560918e+10     2.866892e+06  7.295774e+08   \n",
       "1        8.132472e+07  8.132472e+07     4.501432e+10  4.501432e+10   \n",
       "2        8.698440e+05  8.698440e+05     6.045605e+07  6.045605e+07   \n",
       "\n",
       "                                     \n",
       "                 mean           sum  \n",
       "cluster                              \n",
       "0        5.730366e+07  6.123126e+12  \n",
       "1        4.501432e+10  4.501432e+10  \n",
       "2        6.045605e+07  6.045605e+07  "
      ]
     },
     "execution_count": 14,
     "metadata": {},
     "output_type": "execute_result"
    }
   ],
   "source": [
    "compute_cluster_statistics = userEngagement.compute_cluster_statistics(\n",
    "aggregate_engagement_metrics,classify_engagement_clusters,{\n",
    "    'Bearer Id': ['min', 'max', 'mean', 'sum'],\n",
    "    'Dur. (ms)': ['min', 'max', 'mean', 'sum'],\n",
    "    'Total UL (Bytes)': ['min', 'max', 'mean', 'sum'],\n",
    "    # 'Total DL (Bytes)': ['min', 'max', 'mean', 'sum'],\n",
    "    \n",
    "       \n",
    "})\n",
    "compute_cluster_statistics"
   ]
  },
  {
   "cell_type": "code",
   "execution_count": 15,
   "id": "58ceb8d1-4056-43ca-972f-42d6781a17a8",
   "metadata": {
    "tags": []
   },
   "outputs": [
    {
     "name": "stdout",
     "output_type": "stream",
     "text": [
      "An error occurred during visualization: 'numpy.ndarray' object has no attribute 'index'\n"
     ]
    }
   ],
   "source": [
    "userEngagement.visualize_cluster_statistics(classify_engagement_clusters)"
   ]
  },
  {
   "cell_type": "code",
   "execution_count": 16,
   "id": "4c03f2c5-b6d3-4bdc-bb91-cfcaab999b1a",
   "metadata": {},
   "outputs": [
    {
     "data": {
      "text/plain": [
       "MSISDN/Number\n",
       "3.362632e+10    1.558994e+12\n",
       "3.376389e+10    7.805835e+10\n",
       "3.376273e+10    7.483878e+10\n",
       "3.365912e+10    6.707794e+10\n",
       "3.376392e+10    6.684966e+10\n",
       "3.365884e+10    5.265407e+10\n",
       "3.366048e+10    5.199561e+10\n",
       "3.366233e+10    5.158480e+10\n",
       "3.366946e+10    4.905952e+10\n",
       "3.365049e+10    4.822231e+10\n",
       "dtype: float64"
      ]
     },
     "execution_count": 16,
     "metadata": {},
     "output_type": "execute_result"
    }
   ],
   "source": [
    "userEngagement.aggregate_user_traffic_per_application(\"MSISDN/Number\")"
   ]
  },
  {
   "cell_type": "code",
   "execution_count": 29,
   "id": "2b218f13-11d8-4e0f-beb9-f87526fafec1",
   "metadata": {
    "tags": []
   },
   "outputs": [
    {
     "data": {
      "image/png": "[encoded data removed]",
      "text/plain": [
       "<Figure size 1000x600 with 1 Axes>"
      ]
     },
     "metadata": {},
     "output_type": "display_data"
    }
   ],
   "source": [
    "userEngagement.plot_top_applications(data)"
   ]
  },
  {
   "cell_type": "code",
   "execution_count": 31,
   "id": "ca68406b-4e80-49d7-a408-c74d45d0632c",
   "metadata": {},
   "outputs": [
    {
     "name": "stderr",
     "output_type": "stream",
     "text": [
      "/home/user/anaconda3/lib/python3.11/site-packages/sklearn/cluster/_kmeans.py:870: FutureWarning: The default value of `n_init` will change from 10 to 'auto' in 1.4. Set the value of `n_init` explicitly to suppress the warning\n",
      "  warnings.warn(\n",
      "/home/user/anaconda3/lib/python3.11/site-packages/sklearn/cluster/_kmeans.py:870: FutureWarning: The default value of `n_init` will change from 10 to 'auto' in 1.4. Set the value of `n_init` explicitly to suppress the warning\n",
      "  warnings.warn(\n",
      "/home/user/anaconda3/lib/python3.11/site-packages/sklearn/cluster/_kmeans.py:870: FutureWarning: The default value of `n_init` will change from 10 to 'auto' in 1.4. Set the value of `n_init` explicitly to suppress the warning\n",
      "  warnings.warn(\n",
      "/home/user/anaconda3/lib/python3.11/site-packages/sklearn/cluster/_kmeans.py:870: FutureWarning: The default value of `n_init` will change from 10 to 'auto' in 1.4. Set the value of `n_init` explicitly to suppress the warning\n",
      "  warnings.warn(\n",
      "/home/user/anaconda3/lib/python3.11/site-packages/sklearn/cluster/_kmeans.py:870: FutureWarning: The default value of `n_init` will change from 10 to 'auto' in 1.4. Set the value of `n_init` explicitly to suppress the warning\n",
      "  warnings.warn(\n",
      "/home/user/anaconda3/lib/python3.11/site-packages/sklearn/cluster/_kmeans.py:870: FutureWarning: The default value of `n_init` will change from 10 to 'auto' in 1.4. Set the value of `n_init` explicitly to suppress the warning\n",
      "  warnings.warn(\n",
      "/home/user/anaconda3/lib/python3.11/site-packages/sklearn/cluster/_kmeans.py:870: FutureWarning: The default value of `n_init` will change from 10 to 'auto' in 1.4. Set the value of `n_init` explicitly to suppress the warning\n",
      "  warnings.warn(\n",
      "/home/user/anaconda3/lib/python3.11/site-packages/sklearn/cluster/_kmeans.py:870: FutureWarning: The default value of `n_init` will change from 10 to 'auto' in 1.4. Set the value of `n_init` explicitly to suppress the warning\n",
      "  warnings.warn(\n",
      "/home/user/anaconda3/lib/python3.11/site-packages/sklearn/cluster/_kmeans.py:870: FutureWarning: The default value of `n_init` will change from 10 to 'auto' in 1.4. Set the value of `n_init` explicitly to suppress the warning\n",
      "  warnings.warn(\n",
      "/home/user/anaconda3/lib/python3.11/site-packages/sklearn/cluster/_kmeans.py:870: FutureWarning: The default value of `n_init` will change from 10 to 'auto' in 1.4. Set the value of `n_init` explicitly to suppress the warning\n",
      "  warnings.warn(\n"
     ]
    },
    {
     "data": {
      "image/png": "[encoded data removed]",
      "text/plain": [
       "<Figure size 640x480 with 1 Axes>"
      ]
     },
     "metadata": {},
     "output_type": "display_data"
    }
   ],
   "source": [
    "userEngagement.optimize_k(normalize_engagement_metrics)"
   ]
  },
  {
   "cell_type": "code",
   "execution_count": null,
   "id": "96d91cd7-1423-4124-b19a-d84be3af5f27",
   "metadata": {},
   "outputs": [],
   "source": []
  }
 ],
 "metadata": {
  "kernelspec": {
   "display_name": "Python 3 (ipykernel)",
   "language": "python",
   "name": "python3"
  },
  "language_info": {
   "codemirror_mode": {
    "name": "ipython",
    "version": 3
   },
   "file_extension": ".py",
   "mimetype": "text/x-python",
   "name": "python",
   "nbconvert_exporter": "python",
   "pygments_lexer": "ipython3",
   "version": "3.11.7"
  }
 },
 "nbformat": 4,
 "nbformat_minor": 5
}
