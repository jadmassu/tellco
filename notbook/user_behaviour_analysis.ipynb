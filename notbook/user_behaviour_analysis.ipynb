{
 "cells": [
  {
   "cell_type": "code",
   "execution_count": 12,
   "id": "ddda2b06-d861-4b57-a8c0-be9d115708ec",
   "metadata": {
    "tags": []
   },
   "outputs": [],
   "source": [
    "import os, sys\n",
    "import re\n",
    "import json\n",
    "import glob\n",
    "import datetime\n",
    "from collections import Counter\n",
    "from dotenv import load_dotenv\n",
    "import pandas as pd\n",
    "from matplotlib import pyplot as plt\n",
    "\n",
    "import seaborn as sns\n",
    "\n",
    "from nltk.corpus import stopwords\n"
   ]
  },
  {
   "cell_type": "code",
   "execution_count": 21,
   "id": "b17a46a9-c689-436c-afd5-8671c0bb4be2",
   "metadata": {},
   "outputs": [],
   "source": [
    "rpath = os.path.abspath('/home/user/Documents/10/w1/tellco')\n",
    "\n",
    "if rpath not in sys.path:\n",
    "    sys.path.insert(0, rpath)\n",
    "    \n",
    "import utils.data_manager as dataManager"
   ]
  },
  {
   "cell_type": "code",
   "execution_count": 16,
   "id": "b363ca50-0795-4f58-ab75-6b260f77a561",
   "metadata": {
    "tags": []
   },
   "outputs": [],
   "source": [
    "load_dotenv()\n",
    "database_uri = os.getenv(\"CLEANED_DATABASE_URI\")"
   ]
  },
  {
   "cell_type": "code",
   "execution_count": 23,
   "id": "ad27c6ce-81d8-4dd1-8906-5d46ce9c730f",
   "metadata": {},
   "outputs": [
    {
     "name": "stdout",
     "output_type": "stream",
     "text": [
      "Database connection established successfully.\n"
     ]
    }
   ],
   "source": [
    "dataM = dataManager.DataManager(database_uri)"
   ]
  },
  {
   "cell_type": "code",
   "execution_count": null,
   "id": "e5312363-6cb4-47b9-a376-ce96031c5147",
   "metadata": {},
   "outputs": [],
   "source": []
  }
 ],
 "metadata": {
  "kernelspec": {
   "display_name": "Python 3 (ipykernel)",
   "language": "python",
   "name": "python3"
  },
  "language_info": {
   "codemirror_mode": {
    "name": "ipython",
    "version": 3
   },
   "file_extension": ".py",
   "mimetype": "text/x-python",
   "name": "python",
   "nbconvert_exporter": "python",
   "pygments_lexer": "ipython3",
   "version": "3.11.7"
  }
 },
 "nbformat": 4,
 "nbformat_minor": 5
}
